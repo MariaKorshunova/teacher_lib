{
 "cells": [
  {
   "cell_type": "code",
   "execution_count": 41,
   "metadata": {},
   "outputs": [],
   "source": [
    "import pandas as pd\n",
    "import numpy as np\n",
    "import random\n",
    "\n",
    "file_excel_list_students = \"zr_2021.csv\"\n",
    "number_team_members = 3\n",
    "\n",
    "students = pd.read_csv(file_excel_list_students, header=None, encoding='mbcs')\n",
    "number_of_students = len(students.index)\n",
    "team = 1\n",
    "group = pd.DataFrame({\"Name\":[], \"Team\": []})\n",
    "while number_of_students > 0:\n",
    "    i = number_team_members\n",
    "    while i > 0:\n",
    "        student = random.randint(0, number_of_students - 1)\n",
    "        group = group.append({\"Name\": students.loc[student, 0] , \"Team\": \"Team %(team).0f\" % {'team':team}}, ignore_index=True)\n",
    "        students.drop(labels = [student], axis = 0, inplace = True)\n",
    "        students.reset_index(drop=True, inplace=True)\n",
    "        i -= 1\n",
    "        number_of_students -= 1\n",
    "    team += 1\n",
    "    if number_of_students < number_team_members:\n",
    "        teams = np.array(range(1, team))\n",
    "        while number_of_students > 0:\n",
    "            team = random.randint(0, len(teams) - 1)\n",
    "            group = group.append({\"Name\": students.loc[number_of_students - 1, 0] ,\n",
    "                                  \"Team\": \"Team %(team).0f\" % {'team':teams[team]}},\n",
    "                                 ignore_index=True)\n",
    "            teams = np.delete(teams, team)\n",
    "            number_of_students -= 1\n",
    "group = group.sort_values(by='Name')\n",
    "group.to_excel('./teams.xlsx', index=False)"
   ]
  }
 ],
 "metadata": {
  "kernelspec": {
   "display_name": "Python 3",
   "language": "python",
   "name": "python3"
  },
  "language_info": {
   "codemirror_mode": {
    "name": "ipython",
    "version": 3
   },
   "file_extension": ".py",
   "mimetype": "text/x-python",
   "name": "python",
   "nbconvert_exporter": "python",
   "pygments_lexer": "ipython3",
   "version": "3.8.5"
  }
 },
 "nbformat": 4,
 "nbformat_minor": 4
}
