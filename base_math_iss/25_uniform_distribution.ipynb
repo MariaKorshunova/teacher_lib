{
 "cells": [
  {
   "cell_type": "markdown",
   "metadata": {},
   "source": [
    "# Занятие 25. Равномерное распределение"
   ]
  },
  {
   "cell_type": "code",
   "execution_count": 1,
   "metadata": {},
   "outputs": [],
   "source": [
    "import math"
   ]
  },
  {
   "cell_type": "markdown",
   "metadata": {},
   "source": [
    "Случайная величина 𝑋 распределена равномерно в интервале (x1; x2). Напишите функцию плотности и распределения X и вычислите вероятность P(a ≤ 𝑋 ≤ b).\n",
    "* функцию распределения случайной величины\n",
    "* функцию плотности распределения\n",
    "* математическое ожидание, дисперсию и среднее квадратическое отклонение\n",
    "* вероятность попадания в интервал 𝑃 0 ≤ 𝑋 ≤ 1 ."
   ]
  },
  {
   "cell_type": "code",
   "execution_count": 27,
   "metadata": {},
   "outputs": [
    {
     "name": "stdout",
     "output_type": "stream",
     "text": [
      "Функция распределения F(x)\n",
      "    \t 0 при x < 0\n",
      "F(x)\t 0.08 *x + 0.0\n",
      "    \t 1 при x > 12\n",
      "\n",
      "Функция плотности распределения f(x)\n",
      "     \t 0 при x < 0\n",
      "f(x)\t 0.08 при  0 <= x <= 12\n",
      "     \t 0 при x > 12\n",
      "\n",
      "M(X)= 6.0\n",
      "D(X)= 12.0\n",
      "σ(X)= 3.46\n",
      "Вероятность попадания в интервал P( 0 <= X <= 1 )= 0.08\n"
     ]
    }
   ],
   "source": [
    "# калькулятор решения типовой задачи\n",
    "x1 = 0\n",
    "x2 = 12\n",
    "a = 0\n",
    "b = 1\n",
    "\n",
    "def distribution_function(a, x1, x2):\n",
    "    if a < x1:\n",
    "        F_a = 0\n",
    "    elif a > x2:\n",
    "        F_a = 1\n",
    "    else:\n",
    "        F_a = round((a - x1) / (x2 - x1), 2)\n",
    "    return (F_a)\n",
    "\n",
    "print(\"Функция распределения F(x)\")\n",
    "print(\"    \\t 0 при x <\", x1)\n",
    "print(\"F(x)\\t\", round(1/(x2 - x1), 2), \"*x +\", round(-x1/(x2 - x1), 2))\n",
    "print(\"    \\t 1 при x >\", x2)\n",
    "\n",
    "print(\"\\nФункция плотности распределения f(x)\")\n",
    "print(\"     \\t 0 при x <\", x1)\n",
    "print(\"f(x)\\t\", round(1/(x2 - x1), 2), \"при \", x1, \"<= x <=\", x2)\n",
    "print(\"     \\t 0 при x >\", x2)\n",
    "\n",
    "print(\"\\nM(X)=\", (x1 + x2)/ 2)\n",
    "print(\"D(X)=\", round(pow((x2 - x1), 2)/ 12, 2))\n",
    "print(\"σ(X)=\", round(pow(pow((x2 - x1), 2)/ 12, 0.5), 2))\n",
    "\n",
    "F_a = distribution_function(a, x1, x2)\n",
    "F_b = distribution_function(b, x1, x2)\n",
    "print(\"Вероятность попадания в интервал P(\", a, \"<= X <=\", b, \")=\", round(F_b - F_a, 2))"
   ]
  },
  {
   "cell_type": "markdown",
   "metadata": {},
   "source": [
    "### Домашнее задание\n",
    "Случайная величина 𝑋 распределена равномерно в интервале (a; b). \n",
    "* выпишите и постройте функцию распределения случайной величины\n",
    "* выпишите и постройте функцию плотности распределения\n",
    "* вычислите математическое ожидание, дисперсию и среднее квадратическое отклонение,\n",
    "* вычислите вероятность попадания в интервал 𝑃(0 ≤ 𝑋 ≤ 2) .\n",
    "\n",
    "Варианты задания:\n",
    "a меняется в интервале [-10; -8]\n",
    "b меняется в интервале [5; 10]"
   ]
  }
 ],
 "metadata": {
  "interpreter": {
   "hash": "40d3a090f54c6569ab1632332b64b2c03c39dcf918b08424e98f38b5ae0af88f"
  },
  "kernelspec": {
   "display_name": "Python 3.9.7 ('base')",
   "language": "python",
   "name": "python3"
  },
  "language_info": {
   "codemirror_mode": {
    "name": "ipython",
    "version": 3
   },
   "file_extension": ".py",
   "mimetype": "text/x-python",
   "name": "python",
   "nbconvert_exporter": "python",
   "pygments_lexer": "ipython3",
   "version": "3.9.7"
  },
  "orig_nbformat": 4
 },
 "nbformat": 4,
 "nbformat_minor": 2
}
