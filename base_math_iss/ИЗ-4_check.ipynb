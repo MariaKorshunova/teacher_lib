{
 "cells": [
  {
   "cell_type": "markdown",
   "metadata": {},
   "source": [
    "# Индивидуальное задание 4\n",
    "\n",
    "## Задание ИЗ 4.1\n",
    "\n",
    "Прочитайте презентацию «Шифрование и дешифрование сообщений с помощью матриц». \n",
    "Зашифруйте слово из 8 букв, используя ту же таблицу, что и в презентации, а кодирующую \n",
    "матрицу выберете сами. Обменяйтесь с кем-нибудь зашифрованными словами (и кодирующими \n",
    "матрицами) и расшифруйте то, которое получите."
   ]
  },
  {
   "cell_type": "code",
   "execution_count": 233,
   "metadata": {},
   "outputs": [],
   "source": [
    "import numpy as np\n",
    "import pandas as pd"
   ]
  },
  {
   "cell_type": "code",
   "execution_count": 202,
   "metadata": {},
   "outputs": [],
   "source": [
    "# Зададим кодировочную таблицу в виде словаря\n",
    "table_code = dict({'А': 25, 'Б': 7, 'В': 14, 'Г': 21, 'Д': 1, 'Е': 12,\n",
    "                        'Ё': 32, 'Ж': 8, 'З': 10, 'И': 22, 'Й': 24,'К': 15,\n",
    "                        'Л': 6, 'М': 2, 'Н': 3, 'О': 13, 'П': 35, 'Р': 26,\n",
    "                        'С': 11, 'Т': 9, 'У': 23, 'Ф': 18, 'Х': 31, 'Ц': 20,\n",
    "                        'Ч': 29, 'Ш': 16,'Щ': 17, 'Ъ': 27, 'Ы': 30, 'Ь': 19,\n",
    "                        'Э':33, 'Ю': 4, 'Я': 5, ' ': 28, '!': 34, '.': 36,\n",
    "                        '\\\"': 37, ',': 38, '\\\"': 39, '?': 40, '-': 41, ':': 42})\n"
   ]
  },
  {
   "cell_type": "code",
   "execution_count": 253,
   "metadata": {},
   "outputs": [
    {
     "data": {
      "text/plain": [
       "[145, 53, 191, 72, 230, 85, 153, 56]"
      ]
     },
     "execution_count": 253,
     "metadata": {},
     "output_type": "execute_result"
    }
   ],
   "source": [
    "# Шифрование\n",
    "matrix_code = np.array([[3, 1], [5, 2]]) # кодирующая матрица\n",
    "word = 'авиапарк' # слово, требущее расшифровки\n",
    "word = word.upper()\n",
    "vector_word = []\n",
    "vector_code = []\n",
    "for i in range(len(word)):\n",
    "    vector_word.append(table_code[word[i]])\n",
    "if len(vector_word) % 2 != 0:\n",
    "    vector_word.append(table_code[word[' ']])\n",
    "i = 0\n",
    "while i < len(word) - 1:\n",
    "    vector_code.append(np.array(vector_word[i: i + 2]).dot(matrix_code)[0])\n",
    "    vector_code.append(np.array(vector_word[i: i + 2]).dot(matrix_code)[1])\n",
    "    i += 2\n",
    "vector_code\n"
   ]
  },
  {
   "cell_type": "code",
   "execution_count": 254,
   "metadata": {},
   "outputs": [
    {
     "name": "stdout",
     "output_type": "stream",
     "text": [
      "Обратная матрица к матрице шифрования:\n",
      " [[ 0.6  0.2]\n",
      " [-0.4  0.2]]\n"
     ]
    },
    {
     "data": {
      "text/plain": [
       "'КОРИАНДР'"
      ]
     },
     "execution_count": 254,
     "metadata": {},
     "output_type": "execute_result"
    }
   ],
   "source": [
    "# расшифровка\n",
    "matrix_code = np.array([[1, -1], [2, 3]]) # кодирующая матрица\n",
    "vector_code = np.array([41, 24, 70, 40, 31, -16, 53, 77]) # шифр\n",
    "vector_word = []\n",
    "inverse_matrix = np.linalg.inv(matrix_code)\n",
    "print(\"Обратная матрица к матрице шифрования:\\n\", inverse_matrix)\n",
    "i = 0\n",
    "while i < len(vector_code - 1):\n",
    "    vector_word.append(round(np.array(vector_code[i: i + 2]).dot(inverse_matrix)[0]))\n",
    "    vector_word.append(round(np.array(vector_code[i: i + 2]).dot(inverse_matrix)[1]))\n",
    "    i += 2\n",
    "word = \"\"\n",
    "for i in range(len(vector_word)):\n",
    "    word = word + list(table_code.keys())[list(table_code.values()).index(vector_word[i])]\n",
    "word\n"
   ]
  },
  {
   "cell_type": "markdown",
   "metadata": {},
   "source": [
    "## Задание ИЗ 4.2\n",
    "\n",
    "1) Решите задачу:\n",
    "\n",
    "Если предыдущей покупкой в горнолыжном магазине был сноуборд, то с вероятностью 0,8 \n",
    "следующей покупкой в этом магазине также будет сноуборд. Если предыдущей покупкой были \n",
    "лыжи, то с вероятностью 0,9 следующей покупкой также будут лыжи. Рассчитайте \n",
    "распределение вероятностей для третьей покупки, если первой покупкой были лыжи. Для \n",
    "иллюстрации переходов к следующей покупке изобразите граф и используйте матрицу \n",
    "вероятностей.\n"
   ]
  },
  {
   "cell_type": "code",
   "execution_count": 222,
   "metadata": {},
   "outputs": [
    {
     "data": {
      "text/plain": [
       "array([0.17, 0.83])"
      ]
     },
     "execution_count": 222,
     "metadata": {},
     "output_type": "execute_result"
    }
   ],
   "source": [
    "# ['Сноуборд', 'Лыжи']\n",
    "vector_probability = np.array([0, 1])\n",
    "matrix_transition = np.array([[0.8, 0.2], [0.1, 0.9]])\n",
    "matrix_iter3 = (vector_probability.dot(matrix_transition)).dot(matrix_transition)\n",
    "matrix_iter3"
   ]
  },
  {
   "cell_type": "markdown",
   "metadata": {},
   "source": [
    "2) Придумайте и решите аналогичную задачу."
   ]
  },
  {
   "cell_type": "code",
   "execution_count": 255,
   "metadata": {},
   "outputs": [
    {
     "data": {
      "text/plain": [
       "array([0.44, 0.56])"
      ]
     },
     "execution_count": 255,
     "metadata": {},
     "output_type": "execute_result"
    }
   ],
   "source": [
    "vector_probability = np.array([1, 0]) # вектор на первой итерации\n",
    "matrix_transition = np.array([[0.6, 0.4], [0.2, 0.8]]) # матрица переходных вероятностей\n",
    "iteration = 3 # Количество итерация\n",
    "matrix = vector_probability\n",
    "for i in range(iteration - 1):\n",
    "    matrix = matrix.dot(matrix_transition)\n",
    "matrix"
   ]
  },
  {
   "cell_type": "markdown",
   "metadata": {},
   "source": [
    "## Задание ИЗ 4.3\n",
    "Придумайте и решите две игры по аналогии с примерами, приведенными в учебных \n",
    "пособиях и следующих интернет-источниках:\n",
    "\n",
    "### Решение игры 2 * 2\n"
   ]
  },
  {
   "cell_type": "code",
   "execution_count": 256,
   "metadata": {},
   "outputs": [
    {
     "name": "stdout",
     "output_type": "stream",
     "text": [
      "x1=0.4 x2=0.6 v=2.8\n"
     ]
    }
   ],
   "source": [
    "a11 = 2.5\n",
    "a12 = 4\n",
    "a21 = 3\n",
    "a22 = 2\n",
    "game = np.array([[a11, a12], [a21, a22]])\n",
    "x1 = round((game[1][1] - game[1][0])\n",
    "    /(game[0][0] + game[1][1] - game[0][1] - game[1][0]), 2)\n",
    "x2 = round(1 - x1, 2)\n",
    "v = round((game[0][0] * game[1][1] - game[1][0] * game[0][1])\n",
    "    /(game[0][0] + game[1][1] - game[0][1] - game[1][0]), 2)\n",
    "print(\"x1=\", x1, \" x2=\", x2, \" v=\", v, sep='')\n"
   ]
  },
  {
   "cell_type": "markdown",
   "metadata": {},
   "source": [
    "### Игра с седловой точкой"
   ]
  },
  {
   "cell_type": "code",
   "execution_count": 190,
   "metadata": {},
   "outputs": [
    {
     "name": "stdout",
     "output_type": "stream",
     "text": [
      "Нижняя цена игры:  6\n",
      "Верхняя цена игры:  6\n"
     ]
    }
   ],
   "source": [
    "# Задаем игровую матрицу\n",
    "matrix = np.array([[2, -3, 4, -5, 6, -7], \n",
    "                    [-3, 4, -5, 6, -7, 8],\n",
    "                    [4, -5, 6, -7, 8, -9],\n",
    "                    [-5, 6, -7, 8, -9, 10],\n",
    "                    [-5, 6, -7, 8, -9, 10]])\n",
    "alpha = min(matrix[0])\n",
    "for i in range(1, matrix.shape[0]):\n",
    "    if min(matrix[i]) > alpha:\n",
    "        alpha = min(matrix[i])\n",
    "beta = max(matrix[:,0])\n",
    "for i in range(1, matrix.shape[1]):\n",
    "    if max(matrix[:,i]) < beta:\n",
    "        beta = max(matrix[:,i])\n",
    "print(\"Нижняя цена игры: \", alpha)\n",
    "print(\"Верхняя цена игры: \", beta)"
   ]
  },
  {
   "cell_type": "markdown",
   "metadata": {},
   "source": [
    "### Игра с природой"
   ]
  },
  {
   "cell_type": "code",
   "execution_count": 232,
   "metadata": {},
   "outputs": [
    {
     "name": "stdout",
     "output_type": "stream",
     "text": [
      "Критерий Вальда. Полезность = 2 , стратегия -  3\n",
      "Критерий оптимиста. Полезность = 8 , стратегия -  3\n",
      "Критерий Гурвица. Стратегия -  3.0\n"
     ]
    }
   ],
   "source": [
    "# Задайте игровую матрицу, стратегии и параметр пессимистичности для расчета критерия Гурвица\n",
    "matrix = np.array([[1, 2, 3, 5, 1], [4, 6, 1, 3, 6], [7, 2, 4, 8, 2], [3, 1, 6, 1, 7]])\n",
    "vector_strategy = np.array([1, 2, 3])\n",
    "alpha = 0.5\n",
    "# Критерий Вальда\n",
    "utility = min(matrix[0])\n",
    "strategy_pes = 1\n",
    "for i in range(1, matrix.shape[0]):\n",
    "    if min(matrix[i]) > utility:\n",
    "        strategy_pes = i + 1\n",
    "        utility = min(matrix[i])\n",
    "print(\"Критерий Вальда. Полезность =\", utility, \", стратегия - \", vector_strategy[strategy_pes - 1])\n",
    "# Критерий оптимиста\n",
    "utility = max(matrix[0])\n",
    "strategy_opt = 1\n",
    "for i in range(1, matrix.shape[0]):\n",
    "    if max(matrix[i]) > utility:\n",
    "        strategy_opt = i + 1\n",
    "        utility = max(matrix[i])\n",
    "print(\"Критерий оптимиста. Полезность =\", utility, \", стратегия - \", vector_strategy[strategy_opt - 1])\n",
    "# Критерий Гурвица\n",
    "print(\"Критерий Гурвица. Стратегия - \", vector_strategy[strategy_opt - 1]\n",
    "    + alpha * (vector_strategy[strategy_pes - 1] - vector_strategy[strategy_opt - 1]))"
   ]
  },
  {
   "cell_type": "markdown",
   "metadata": {},
   "source": [
    "## Задание ИЗ 4.4\n",
    "Решите в Excel методом Крамера и методом обратной матрицы систему уравнений из \n",
    "своего варианта."
   ]
  },
  {
   "cell_type": "code",
   "execution_count": 257,
   "metadata": {},
   "outputs": [],
   "source": [
    "var = pd.read_excel('ИЗ_4_Варианты.xlsx')"
   ]
  },
  {
   "cell_type": "code",
   "execution_count": 258,
   "metadata": {},
   "outputs": [],
   "source": [
    "# Введите номер варианта\n",
    "variant = 3\n",
    "a11 = var.iloc[variant - 1]['a11']\n",
    "a12 = var.iloc[variant - 1]['a12']\n",
    "a13 = var.iloc[variant - 1]['a13']\n",
    "a14 = var.iloc[variant - 1]['a14']\n",
    "b1 = var.iloc[variant - 1]['b1']\n",
    "a21 = var.iloc[variant - 1]['a21']\n",
    "a22 = var.iloc[variant - 1]['a22']\n",
    "a23 = var.iloc[variant - 1]['a23']\n",
    "a24 = var.iloc[variant - 1]['a24']\n",
    "b2 = var.iloc[variant - 1]['b2']\n",
    "a31 = var.iloc[variant - 1]['a31']\n",
    "a32 = var.iloc[variant - 1]['a32']\n",
    "a33 = var.iloc[variant - 1]['a33']\n",
    "a34 = var.iloc[variant - 1]['a34']\n",
    "b3 = var.iloc[variant - 1]['b3']\n",
    "a41 = var.iloc[variant - 1]['a41']\n",
    "a42 = var.iloc[variant - 1]['a42']\n",
    "a43 = var.iloc[variant - 1]['a43']\n",
    "a44 = var.iloc[variant - 1]['a44']\n",
    "b4 = var.iloc[variant - 1]['b4']"
   ]
  },
  {
   "cell_type": "markdown",
   "metadata": {},
   "source": [
    "### Метод Крамера"
   ]
  },
  {
   "cell_type": "code",
   "execution_count": 259,
   "metadata": {},
   "outputs": [
    {
     "name": "stdout",
     "output_type": "stream",
     "text": [
      "Основной определитель:  8706.0\n",
      "Определитель дельта 1:  -0.0\n",
      "Определитель дельта 2:  -78354.0\n",
      "Определитель дельта 3:  8706.0\n",
      "Определитель дельта 4:  34824.0\n",
      "x1 = -0.0\n",
      "x2 = -9.0\n",
      "x3 = 1.0\n",
      "x4 = 4.0\n"
     ]
    }
   ],
   "source": [
    "A = np.array([[a11, a12, a13, a14], [a21, a22, a23, a24],\n",
    "    [a31, a32, a33, a34], [a41, a42, a43, a44]])\n",
    "det = np.linalg.det(A)\n",
    "det1 = np.linalg.det(np.array([[b1, a12, a13, a14], [b2, a22, a23, a24],\n",
    "    [b3, a32, a33, a34], [b4, a42, a43, a44]]))\n",
    "det2 = np.linalg.det([[a11, b1, a13, a14], [a21, b2, a23, a24],\n",
    "    [a31, b3, a33, a34], [a41, b4, a43, a44]])\n",
    "det3 = np.linalg.det([[a11, a12, b1, a14], [a21, a22, b2, a24],\n",
    "    [a31, a32, b3, a34], [a41, a42, b4, a44]])\n",
    "det4 = np.linalg.det([[a11, a12, a13, b1], [a21, a22, a23, b2],\n",
    "    [a31, a32, a33, b3], [a41, a42, a43, b4]])\n",
    "print(\"Основной определитель: \", round(det, 2))\n",
    "print(\"Определитель дельта 1: \", round(det1, 2))\n",
    "print(\"Определитель дельта 2: \", round(det2, 2))\n",
    "print(\"Определитель дельта 3: \", round(det3, 2))\n",
    "print(\"Определитель дельта 4: \", round(det4, 2))\n",
    "print(\"x1 =\", round(det1 / det, 2))\n",
    "print(\"x2 =\", round(det2 / det, 2))\n",
    "print(\"x3 =\", round(det3 / det, 2))\n",
    "print(\"x4 =\", round(det4 / det, 2))"
   ]
  },
  {
   "cell_type": "markdown",
   "metadata": {},
   "source": [
    "### Метод обратной матрицы"
   ]
  },
  {
   "cell_type": "code",
   "execution_count": 252,
   "metadata": {},
   "outputs": [
    {
     "name": "stdout",
     "output_type": "stream",
     "text": [
      "[[ 0.07901235 -0.00246914  0.30617284 -0.2691358 ]\n",
      " [-0.02469136 -0.0617284  -0.34567901  0.27160494]\n",
      " [ 0.01135802 -0.03160494 -0.28098765  0.35506173]\n",
      " [ 0.08098765  0.12246914  0.21382716 -0.2508642 ]]\n"
     ]
    },
    {
     "data": {
      "text/plain": [
       "array([ 1., -2., -6.,  2.])"
      ]
     },
     "execution_count": 252,
     "metadata": {},
     "output_type": "execute_result"
    }
   ],
   "source": [
    "B = np.array([b1, b2, b3, b4])\n",
    "inverse_matrix = np.linalg.inv(A)\n",
    "print(inverse_matrix)\n",
    "inverse_matrix.dot(B)"
   ]
  }
 ],
 "metadata": {
  "interpreter": {
   "hash": "ad2bdc8ecc057115af97d19610ffacc2b4e99fae6737bb82f5d7fb13d2f2c186"
  },
  "kernelspec": {
   "display_name": "Python 3.9.7 ('base')",
   "language": "python",
   "name": "python3"
  },
  "language_info": {
   "codemirror_mode": {
    "name": "ipython",
    "version": 3
   },
   "file_extension": ".py",
   "mimetype": "text/x-python",
   "name": "python",
   "nbconvert_exporter": "python",
   "pygments_lexer": "ipython3",
   "version": "3.9.7"
  },
  "orig_nbformat": 4
 },
 "nbformat": 4,
 "nbformat_minor": 2
}
