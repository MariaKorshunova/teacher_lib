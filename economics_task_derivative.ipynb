{
 "cells": [
  {
   "cell_type": "markdown",
   "metadata": {},
   "source": [
    "# Творческое задание. Экономическая задача\n",
    "\n",
    "Придумайте и решите  экономическую задачу , где в условии задана функция дохода как полином второй степени, а функция издержек как полином третьей степени.\n",
    "\n",
    "$$ R(q)=aq^2 + bq + c $$\n",
    "$$ C(q)=dq^3 + eq^2 + fq + g $$\n",
    "\n",
    "Другими словами, вы должны придумать ваши значения a, b, c, d, e, f, g:\n",
    "\n",
    "В задаче необходимо найти и построить функции\n",
    "* общих издержек (TC),\n",
    "* постоянных издержек (FC),\n",
    "* переменных издержек (VC),\n",
    "* средних издержек (AC),\n",
    "* средних постоянных издержек (AFC),\n",
    "* средних переменных издержек (AVC),\n",
    "* предельных издержек (MC).\n",
    "\n",
    "Далее, найти и построить функции:\n",
    "* функции дохода (TR),\n",
    "* среднего дохода (AR),\n",
    "* предельного дохода (MR).\n",
    "\n",
    "Найти, построить и провести анализ функции прибыли. Найти максимум прибыли.\n",
    "Важное указание и подсказка: в ходе решения задачи не потеряйте экономический смысл!"
   ]
  },
  {
   "cell_type": "code",
   "execution_count": 1,
   "metadata": {},
   "outputs": [
    {
     "name": "stdout",
     "output_type": "stream",
     "text": [
      "-5\n"
     ]
    }
   ],
   "source": [
    "# Параметры задачи\n",
    "a = -5\n",
    "b = 60\n",
    "c = 30\n",
    "d = 1\n",
    "e = 0\n",
    "f = -30\n",
    "g = 5"
   ]
  },
  {
   "cell_type": "code",
   "execution_count": null,
   "metadata": {},
   "outputs": [],
   "source": [
    "import numpy as np\n",
    "import matplotlib.pyplot as plt"
   ]
  }
 ],
 "metadata": {
  "interpreter": {
   "hash": "ad2bdc8ecc057115af97d19610ffacc2b4e99fae6737bb82f5d7fb13d2f2c186"
  },
  "kernelspec": {
   "display_name": "Python 3.9.7 ('base')",
   "language": "python",
   "name": "python3"
  },
  "language_info": {
   "codemirror_mode": {
    "name": "ipython",
    "version": 3
   },
   "file_extension": ".py",
   "mimetype": "text/x-python",
   "name": "python",
   "nbconvert_exporter": "python",
   "pygments_lexer": "ipython3",
   "version": "3.9.7"
  },
  "orig_nbformat": 4
 },
 "nbformat": 4,
 "nbformat_minor": 2
}
